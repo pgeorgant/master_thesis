{
  "cells": [
    {
      "attachments": {},
      "cell_type": "markdown",
      "metadata": {
        "id": "Booliax-5QLi"
      },
      "source": [
        "[1] $$ y(kT_s+t) = y(kT_s) + \\sum\\limits_{n=0}^{N}a_n cos(2\\pi nt) = y(kT_s) + a_0 + \\sum\\limits_{n=1}^{N}a_n cos(2\\pi nt)$$\n",
        "[2] for t=0: $$ a_0 = - \\sum\\limits_{n=1}^{N}a_n $$\n",
        "[3] (by [1],[2])  $$ y(kT_s+t) = y(kT_s) + \\sum\\limits_{n=1}^{N}a_n (cos(2\\pi nt)-1) = y(kT_s) + C(t)\\textbf{a}$$\n",
        "[4] $$ y^{(1)}(kT_s+t) = -2\\pi\\sum\\limits_{n=1}^{N}a_n sin(2\\pi nt)n  = S(t)\\bf{a}$$\n",
        "[5] $$ \\min\\limits_{a} \\max\\limits_{t} |y^{(1)}(kT_s + t)- f(y(kT_s + t),~kT_s + t) | = \\min\\limits_{a} \\max\\limits_{t} |S(t)\\textbf{a} - f(y(kT_s) + C(t)\\textbf{a},~kT_s + t)| $$\n"
      ]
    },
    {
      "attachments": {},
      "cell_type": "markdown",
      "metadata": {
        "id": "oZjVGddulvDq"
      },
      "source": [
        "$$\n",
        "\\begin{matrix}\n",
        "\\vdots\\\\\n",
        "y(t_i) - y_0-f(y_0)-f(y_0,t_i))\\\\\n",
        "\\vdots\\\\\n",
        "\\end{matrix}\n",
        "=\n",
        "\\begin{matrix}\n",
        "\\vdots\\\\\n",
        "f^{(1)}(y_0) [sin(n\\pi t_i)]_0^t -t_i \\\\\n",
        "\\vdots\\\\\n",
        "\\end{matrix}\n",
        "\\begin{matrix}\n",
        "a_1 \\\\\n",
        "a_2 \\\\\n",
        "\\vdots\\\\\n",
        "a_N \\\\\n",
        "\\end{matrix}\n",
        "$$\n",
        "\n",
        "$$\n",
        "\\begin{matrix}\n",
        "\\vdots\\\\\n",
        "f^{(1)}(y_0) [sin(n\\pi t_i)]_0^t -t_i \\\\\n",
        "\\vdots\\\\\n",
        "\\end{matrix}\n",
        "~\n",
        "\\begin{matrix}\n",
        "\\vdots\\\\\n",
        "y(t_i) - y_0-f(y_0)-f(y_0,t_i))\\\\\n",
        "\\vdots\\\\\n",
        "\\end{matrix}\n",
        "=\n",
        "\\begin{matrix}\n",
        "a_1 \\\\\n",
        "a_2 \\\\\n",
        "\\vdots\\\\\n",
        "a_N \\\\\n",
        "\\end{matrix}$$"
      ]
    },
    {
      "cell_type": "code",
      "execution_count": 1,
      "metadata": {
        "colab": {
          "base_uri": "https://localhost:8080/"
        },
        "id": "PpH04V9aFWlO",
        "outputId": "92d84d97-86f9-41a9-f598-a5a92b5ba1f0"
      },
      "outputs": [],
      "source": [
        "import torch\n",
        "import torch.nn as nn\n",
        "import numpy as np\n",
        "import matplotlib.pyplot as plt\n",
        "import torchdiffeq"
      ]
    },
    {
      "cell_type": "code",
      "execution_count": 2,
      "metadata": {
        "id": "2EsNbiy3zaOf"
      },
      "outputs": [],
      "source": [
        "def find_extrema_alt_sign(x,N):\n",
        "    \"\"\"\n",
        "    x: input sequence\n",
        "    N: number of extremas to keep\n",
        "    keep_inds: selected sequene of extremas with alternating sign\n",
        "    \"\"\"\n",
        "    x = x.view(1,-1)\n",
        "    x_shL = torch.cat((x,torch.zeros(1,1)),dim=1)\n",
        "    x_shR = torch.cat((torch.zeros(1,1),x),dim=1)\n",
        "    inds_zeros = torch.argwhere(x_shR*x_shL < 0)[:,1].tolist()\n",
        "    inds_zeros = [0] + inds_zeros + [x.shape[1]-1]\n",
        "    # print(f\"{len(inds_zeros)} zeros: {inds_zeros}\")\n",
        "    out = []\n",
        "    if len(inds_zeros) > 0:\n",
        "\n",
        "        for i in range(0,len(inds_zeros)-1):\n",
        "            a = inds_zeros[i]\n",
        "            b = inds_zeros[i+1]\n",
        "            if b-a == 1:\n",
        "                out.append(a)\n",
        "            else:\n",
        "                out.append(a + torch.argmax(torch.abs(x[0,a:b+1])).item())\n",
        "\n",
        "        if torch.abs(x[0,0]) > 1e-2:\n",
        "            out = [0] + out\n",
        "        if torch.abs(x[0,-1]) > 1e-2:\n",
        "            out = out + [x.shape[1]-1]\n",
        "        print(f\"{len(out)} extremas: {out}\")\n",
        "\n",
        "        if len(out) > N:\n",
        "            drop_inds = torch.sort(torch.abs(torch.diff(x[0,out])), descending=True).indices[N-1:].tolist()\n",
        "            out_drop = np.sort([out[k] for k in drop_inds]).tolist()\n",
        "            print(f'{len(out_drop)} drop {out_drop}')\n",
        "            while len(out) > N:\n",
        "                if len(out)-N == 1:\n",
        "                    if torch.rand(1) > .5:\n",
        "                        out.pop(0)\n",
        "                    else:\n",
        "                        out.pop()\n",
        "                    break\n",
        "                if out_drop[-2] in out:\n",
        "                    out.remove(out_drop[-1])\n",
        "                    out.remove(out_drop[-2])\n",
        "                    out_drop.pop()\n",
        "                    out_drop.pop()\n",
        "\n",
        "        print(f'{len(out)} selected: {out}')\n",
        "\n",
        "    return out"
      ]
    },
    {
      "cell_type": "code",
      "execution_count": 21,
      "metadata": {
        "id": "pXrA4WYnyPXG"
      },
      "outputs": [],
      "source": [
        "# class f(torch.nn.Module):\n",
        "#     def __init__(self):\n",
        "#         super().__init__()\n",
        "#         self.linear1 = nn.Linear(2,1)\n",
        "#         self.relu = nn.ReLU()\n",
        "#         self.linear2 = nn.Linear(1,1)\n",
        "#     def forward(self, y, t):\n",
        "#         inp = torch.cat((y,t),1)\n",
        "#         return self.linear2(self.relu(self.linear1(inp)))\n",
        "\n",
        "def f(y,t):\n",
        "    # return 1.2*y.pow(2) + 2*y + 1\n",
        "    return torch.sigmoid(y)\n",
        "    # return torch.sin(y*torch.pi*0.5)\n",
        "\n",
        "def f_y(y,t):\n",
        "    # return 2.4*y + 2\n",
        "    return f(y,t)*(1-f(y,t))\n",
        "    # return .5*torch.pi*torch.cos(y*torch.pi*0.5)\n",
        "\n",
        "class CosPoly():\n",
        "    \"\"\"\n",
        "    N: order of cosine polynomial\n",
        "    a: polynomial factors\n",
        "    delta: maximal error\n",
        "    \"\"\"\n",
        "    def __init__(self, N):\n",
        "        self.N = N\n",
        "        self.a = torch.randn(N).view(-1,1)\n",
        "        self.delta = None\n",
        "\n",
        "    def y(self,y0, t):\n",
        "        t = t.view(-1,1)\n",
        "        return y0 + self.C(t) @ self.a\n",
        "\n",
        "    def y_t(self,t):\n",
        "        t = t.view(-1,1)\n",
        "        return self.S(t) @ self.a\n",
        "\n",
        "    def C(self,t):\n",
        "        n = torch.arange(1.0, self.N+1).reshape(1,-1)\n",
        "        return (torch.cos(torch.pi*t@n) - 1)\n",
        "\n",
        "    def C_int(self,t):\n",
        "        n = torch.arange(1.0, self.N+1).reshape(1,-1)\n",
        "        return (torch.sin(torch.pi*t@n)/(n*torch.pi) - torch.sin(torch.pi*t[0]*torch.ones(len(t),1)@n)/(n*torch.pi) - t)\n",
        "\n",
        "    def S(self,t):\n",
        "        n = torch.arange(1.0, self.N+1).reshape(1,-1)\n",
        "        return (-torch.pi* torch.ones(len(t),1)@n) * torch.sin(torch.pi*t@n)\n",
        "\n",
        "    def fit(self, t, y0):\n",
        "        t = t.view(-1,1)\n",
        "        sgn = torch.ones(len(t),1)\n",
        "        sgn[1::2] = -1\n",
        "        S_aug = torch.cat((sgn, self.S(t)-self.C(t)*f_y(y0,t)),1)\n",
        "        # print(S_aug.shape,f(y0,t).shape) \n",
        "        out = torch.linalg.solve(S_aug, torch.ones(self.N+1,1)*f(y0,t))\n",
        "        self.a = out[1:]\n",
        "        self.delta = out[0]\n",
        "        print('delta:', self.delta.item())\n",
        "\n",
        "    def fit2(self, t, y0):\n",
        "        t = t.view(-1,1)\n",
        "        n = torch.arange(1.0, self.N+1).view(1,-1)\n",
        "        S = self.C(t) - f_y(y0,t)*self.C_int(t)\n",
        "        S_inv = torch.linalg.pinv(S)\n",
        "        self.a =  S_inv @ (f(y0,t)*t)\n",
        "\n",
        "    def fit3(self, t, y0):\n",
        "        t = t.view(-1,1)\n",
        "        sgn = torch.ones(len(t),1)\n",
        "        sgn[1::2] = -1\n",
        "        S_aug = torch.cat((sgn, self.C(t) - f_y(y0,t)*self.C_int(t)),1)\n",
        "        out = torch.linalg.solve(S_aug, f(y0,t)*t)\n",
        "        self.a = out[1:]\n",
        "        self.delta = out[0]\n",
        "        print('delta:', self.delta.item())\n"
      ]
    },
    {
      "attachments": {},
      "cell_type": "markdown",
      "metadata": {
        "id": "bT7D4USctjE0"
      },
      "source": [
        "# 1-D"
      ]
    },
    {
      "cell_type": "code",
      "execution_count": 28,
      "metadata": {
        "colab": {
          "base_uri": "https://localhost:8080/",
          "height": 1000
        },
        "id": "mvaUkQBUtiI7",
        "outputId": "e8a3d4b9-113d-4a92-f3f4-44223eab34de"
      },
      "outputs": [
        {
          "name": "stdout",
          "output_type": "stream",
          "text": [
            "\n",
            "k=0\n",
            "7 extremas: [0, 1714, 3801, 7166, 8924, 9998, 9998]\n",
            "7 selected: [0, 1714, 3801, 7166, 8924, 9998, 9998]\n"
          ]
        },
        {
          "data": {
            "image/png": "[encoded data removed]",
            "text/plain": [
              "<Figure size 400x100 with 1 Axes>"
            ]
          },
          "metadata": {},
          "output_type": "display_data"
        },
        {
          "name": "stdout",
          "output_type": "stream",
          "text": [
            "torch.Size([])\n",
            "delta: 0.4972933530807495\n",
            "13 extremas: [0, 0, 674, 1734, 2779, 3803, 4815, 5820, 6814, 7798, 8780, 9998, 9998]\n",
            "2 drop [0, 9998]\n",
            "11 selected: [0, 674, 1734, 2779, 3803, 4815, 5820, 6814, 7798, 8780, 9998]\n"
          ]
        },
        {
          "data": {
            "image/png": "[encoded data removed]",
            "text/plain": [
              "<Figure size 400x100 with 1 Axes>"
            ]
          },
          "metadata": {},
          "output_type": "display_data"
        },
        {
          "name": "stdout",
          "output_type": "stream",
          "text": [
            "torch.Size([])\n",
            "delta: 0.497706800699234\n"
          ]
        },
        {
          "data": {
            "text/plain": [
              "[<matplotlib.lines.Line2D at 0x7fc25fe0a8f0>]"
            ]
          },
          "execution_count": 28,
          "metadata": {},
          "output_type": "execute_result"
        },
        {
          "data": {
            "image/png": "[encoded data removed]",
            "text/plain": [
              "<Figure size 700x300 with 1 Axes>"
            ]
          },
          "metadata": {},
          "output_type": "display_data"
        },
        {
          "data": {
            "image/png": "[encoded data removed]",
            "text/plain": [
              "<Figure size 700x300 with 1 Axes>"
            ]
          },
          "metadata": {},
          "output_type": "display_data"
        }
      ],
      "source": [
        "Ts = 0.75\n",
        "M = 10000 # no of samples in [k*Ts, (k+1)*Ts]\n",
        "N = 10 # no. polynomial params\n",
        "\n",
        "CP = CosPoly(N)\n",
        "\n",
        "y0 = torch.tensor(0.0)\n",
        "y0_gt = torch.tensor(0.0)\n",
        "\n",
        "for i,k in enumerate(range(0,1)):\n",
        "    print(f'\\n{k=}')\n",
        "    t = torch.arange(k*Ts+Ts/M, (k+1)*Ts, Ts/M)\n",
        "\n",
        "    for itr in range(1,3):\n",
        "\n",
        "        # print(f'\\n{itr=}')\n",
        "\n",
        "        y_samples = CP.y(y0,t)\n",
        "\n",
        "        y_t_samples = CP.y_t(t)\n",
        "        f_samples = f(y_samples.reshape(-1,1), t.reshape(-1,1))\n",
        "        d =  y_t_samples - f_samples\n",
        "\n",
        "        extr_ind = find_extrema_alt_sign(d, N+1)\n",
        "\n",
        "        plt.figure(figsize=(4,1))\n",
        "        plt.plot(y_t_samples,'k')\n",
        "        plt.plot(f_samples,'k--')\n",
        "        plt.scatter(extr_ind, y_t_samples[extr_ind], marker='*', color='r')\n",
        "        plt.show()\n",
        "        plt.pause(0.5)\n",
        "\n",
        "        if len(extr_ind) != N+1:\n",
        "            extr_ind = torch.arange(0,M,M/(N+1)).tolist()\n",
        "\n",
        "        print(f(y0,t).shape)\n",
        "        CP.fit(t[extr_ind], y0)\n",
        "\n",
        "    y_odeint = torchdiffeq.odeint(f, y0_gt.unsqueeze(0), t=t).squeeze()\n",
        "\n",
        "    if i == 0:\n",
        "        y_traj = CP.y(y0,t)\n",
        "        y_traj_gt = y_odeint\n",
        "    else:\n",
        "        y_traj = torch.cat((y_traj, CP.y(y0,t)),0)\n",
        "        y_traj_gt = torch.cat((y_traj_gt, y_odeint),0)\n",
        "\n",
        "    y0 = y_traj[-1]\n",
        "    y0_gt = y_traj_gt[-1]\n",
        "\n",
        "plt.figure(figsize=(7,3))\n",
        "plt.plot(y_traj,'.')\n",
        "plt.figure(figsize=(7,3))\n",
        "plt.plot(y_traj_gt,'.')"
      ]
    },
    {
      "cell_type": "code",
      "execution_count": 17,
      "metadata": {},
      "outputs": [
        {
          "data": {
            "text/plain": [
              "tensor(0.5000)"
            ]
          },
          "execution_count": 17,
          "metadata": {},
          "output_type": "execute_result"
        }
      ],
      "source": [
        "f(y0,t)"
      ]
    },
    {
      "attachments": {},
      "cell_type": "markdown",
      "metadata": {
        "id": "OAt3h6GItoyz"
      },
      "source": [
        "# N-D solve each 1-D separetely"
      ]
    },
    {
      "cell_type": "code",
      "execution_count": null,
      "metadata": {
        "id": "lSxMONIBtoEq"
      },
      "outputs": [],
      "source": [
        "k = 0;\n",
        "Ts = 1;\n",
        "M = 10000; # no of samples in [k*Ts, (k+1)*Ts]\n",
        "t = torch.arange(k*Ts,(k+1)*Ts,Ts/M) # dense time sampling\n",
        "N = 10 # no. polynomial params\n",
        "D = 2\n",
        "\n",
        "CPs = [CosPoly(N) for _ in range(D)]\n",
        "\n",
        "extr_ind = torch.arange(0,M,M/(N+1)).tolist()\n",
        "\n",
        "for itr in range(1,10):\n",
        "\n",
        "    print(f'\\n{itr=}')\n",
        "\n",
        "    for CP in CPs:\n",
        "        y_samples = CP.y(t)\n",
        "        y_t_samples = CP.y_t(t)\n",
        "        f_samples = f(y_samples.reshape(-1,1), t.reshape(-1,1))\n",
        "        d =  y_t_samples - f_samples\n",
        "\n",
        "        # extr_ind = find_extrema_alt_sign(d, N+1)\n",
        "\n",
        "        # plt.figure(figsize=(15,2))\n",
        "        # plt.subplot(1,3,1)\n",
        "        # plt.plot(torch.log(torch.abs(d)),'k')\n",
        "        # # plt.plot(y_t_samples,'k')\n",
        "        # # plt.plot(f_samples,'k--')\n",
        "        # plt.plot(torch.zeros(len(t)),'k--')\n",
        "        # # plt.scatter(extr_ind, d[extr_ind], marker='*', color='r')\n",
        "        # # plt.legend(['','y_t-f','extrema','drop extr'])\n",
        "        # plt.subplot(1,3,3)\n",
        "        # plt.plot(torch.arange(0,1,1/100),f(torch.arange(0,1,1/100),1))\n",
        "        # plt.subplot(1,3,2)\n",
        "        # plt.stem(CP.a)\n",
        "\n",
        "        # plt.show()\n",
        "        # plt.pause(0.5)\n",
        "        if len(extr_ind) != N+1:\n",
        "            print('Incorrect number of extremas')\n",
        "            break\n",
        "        else:\n",
        "            CP.fit(t[extr_ind], f_samples[extr_ind], CP.y(torch.tensor(k*Ts)))"
      ]
    },
    {
      "attachments": {},
      "cell_type": "markdown",
      "metadata": {
        "id": "Fwzfe56tm9Mt"
      },
      "source": [
        "#### Fixed Point Iteration Notes"
      ]
    },
    {
      "cell_type": "code",
      "execution_count": null,
      "metadata": {
        "colab": {
          "base_uri": "https://localhost:8080/",
          "height": 447
        },
        "id": "IqaDgftK2lhJ",
        "outputId": "1741b719-f13a-4315-af1c-0b5c2c38bd40"
      },
      "outputs": [
        {
          "data": {
            "text/plain": [
              "[<matplotlib.lines.Line2D at 0x7fe76b749540>]"
            ]
          },
          "execution_count": 17,
          "metadata": {},
          "output_type": "execute_result"
        },
        {
          "data": {
            "image/png": "[encoded data removed]",
            "text/plain": [
              "<Figure size 640x480 with 1 Axes>"
            ]
          },
          "metadata": {},
          "output_type": "display_data"
        }
      ],
      "source": [
        "Ax = 0.5\n",
        "import numpy as np\n",
        "out = []\n",
        "for i in range(10000):\n",
        "    out.append(x)\n",
        "    x = np.sin(x)\n",
        "plt.plot(out)"
      ]
    },
    {
      "cell_type": "code",
      "execution_count": null,
      "metadata": {
        "colab": {
          "base_uri": "https://localhost:8080/",
          "height": 449
        },
        "id": "GZa-rGw_3OZq",
        "outputId": "d3b15ea6-c278-4a2e-dad5-56c80d993414"
      },
      "outputs": [
        {
          "data": {
            "text/plain": [
              "[<matplotlib.lines.Line2D at 0x7f77ac665480>]"
            ]
          },
          "execution_count": 53,
          "metadata": {},
          "output_type": "execute_result"
        },
        {
          "data": {
            "image/png": "[encoded data removed]",
            "text/plain": [
              "<Figure size 640x480 with 1 Axes>"
            ]
          },
          "metadata": {},
          "output_type": "display_data"
        }
      ],
      "source": [
        "import numpy as np\n",
        "import matplotlib.pyplot as plt\n",
        "def f(x):\n",
        "    return 1/(1+np.exp(x))\n",
        "    # return np.cos(x)\n",
        "    # return(1/(1+x))\n",
        "\n",
        "def f_y(x):\n",
        "    return f(x)*(1-f(x))\n",
        "    # return -np.sin(x)\n",
        "    # return -1/np.power(1+x,2)\n",
        "\n",
        "delta = .1\n",
        "y = [-10]\n",
        "for _ in np.arange(100000):\n",
        "    y0 = y[-1]\n",
        "    y.append(y0 + delta*f(y0) + np.power(f_y(y0),2)*np.power(delta,2))\n",
        "\n",
        "plt.plot(y)"
      ]
    }
  ],
  "metadata": {
    "colab": {
      "provenance": []
    },
    "kernelspec": {
      "display_name": "Python 3",
      "name": "python3"
    },
    "language_info": {
      "codemirror_mode": {
        "name": "ipython",
        "version": 3
      },
      "file_extension": ".py",
      "mimetype": "text/x-python",
      "name": "python",
      "nbconvert_exporter": "python",
      "pygments_lexer": "ipython3",
      "version": "3.10.6"
    }
  },
  "nbformat": 4,
  "nbformat_minor": 0
}
